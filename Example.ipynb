{
 "cells": [
  {
   "cell_type": "markdown",
   "id": "6ff62001",
   "metadata": {},
   "source": [
    "# LIST\n"
   ]
  },
  {
   "cell_type": "code",
   "execution_count": null,
   "id": "4744a23f",
   "metadata": {},
   "outputs": [
    {
     "name": "stdout",
     "output_type": "stream",
     "text": [
      "['India', 'United States of America', 'China', 'Berlin']\n",
      "India\n"
     ]
    }
   ],
   "source": [
    "countries = [\"India\", \"United States of America\", \"China\", \"Berlin\"]\n",
    "print(countries)\n",
    "print(countries[0])"
   ]
  }
 ],
 "metadata": {
  "kernelspec": {
   "display_name": "base",
   "language": "python",
   "name": "python3"
  },
  "language_info": {
   "codemirror_mode": {
    "name": "ipython",
    "version": 3
   },
   "file_extension": ".py",
   "mimetype": "text/x-python",
   "name": "python",
   "nbconvert_exporter": "python",
   "pygments_lexer": "ipython3",
   "version": "3.13.5"
  }
 },
 "nbformat": 4,
 "nbformat_minor": 5
}
