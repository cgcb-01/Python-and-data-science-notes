{
 "cells": [
  {
   "cell_type": "markdown",
   "id": "6ff62001",
   "metadata": {},
   "source": [
    "# LIST\n"
   ]
  },
  {
   "cell_type": "code",
   "execution_count": 45,
   "id": "4744a23f",
   "metadata": {},
   "outputs": [
    {
     "name": "stdout",
     "output_type": "stream",
     "text": [
      "['India', 'United States of America', 'China', 'Berlin']\n",
      "India\n",
      "Berlin\n",
      "India\n"
     ]
    }
   ],
   "source": [
    "countries = [\"India\", \"United States of America\", \"China\", \"Berlin\"]\n",
    "print(countries)\n",
    "print(countries[0])\n",
    "print(countries[-1])  # it shows the last element\n",
    "print(countries[-4])  # from back it gives the value"
   ]
  },
  {
   "cell_type": "code",
   "execution_count": 46,
   "id": "1f61d511",
   "metadata": {},
   "outputs": [
    {
     "name": "stdout",
     "output_type": "stream",
     "text": [
      "['United States of America', 'China', 'Berlin']\n"
     ]
    }
   ],
   "source": [
    "# slicing\n",
    "print(\n",
    "    countries[1:4]\n",
    ")  # This shows the elements from start to stop indexes but the last is not included"
   ]
  },
  {
   "cell_type": "code",
   "execution_count": 47,
   "id": "eaef59ba",
   "metadata": {},
   "outputs": [
    {
     "name": "stdout",
     "output_type": "stream",
     "text": [
      "['India', 'United States of America', 'China', 'Berlin', 'Canada']\n",
      "['India', 'spain', 'United States of America', 'China', 'Berlin', 'Canada']\n"
     ]
    }
   ],
   "source": [
    "# appending\n",
    "countries.append(\"Canada\")\n",
    "print(countries)\n",
    "\n",
    "# inserting element at a index\n",
    "countries.insert(1, \"spain\")\n",
    "print(countries)"
   ]
  },
  {
   "cell_type": "markdown",
   "id": "709cdc5d",
   "metadata": {},
   "source": [
    "## Removing Element\n"
   ]
  },
  {
   "cell_type": "code",
   "execution_count": null,
   "id": "a37fe34e",
   "metadata": {},
   "outputs": [
    {
     "data": {
      "text/plain": [
       "['India', 'United States of America', 'China', 'Berlin', 'Canada']"
      ]
     },
     "execution_count": 48,
     "metadata": {},
     "output_type": "execute_result"
    }
   ],
   "source": [
    "countries.remove(\"spain\")  # by name\n",
    "countries"
   ]
  },
  {
   "cell_type": "code",
   "execution_count": null,
   "id": "6d699b0e",
   "metadata": {},
   "outputs": [
    {
     "data": {
      "text/plain": [
       "['India', 'China', 'Berlin']"
      ]
     },
     "execution_count": 49,
     "metadata": {},
     "output_type": "execute_result"
    }
   ],
   "source": [
    "countries.pop()  # popping the last element\n",
    "countries\n",
    "del countries[1]  # deleting a element of a particular index\n",
    "countries"
   ]
  }
 ],
 "metadata": {
  "kernelspec": {
   "display_name": "base",
   "language": "python",
   "name": "python3"
  },
  "language_info": {
   "codemirror_mode": {
    "name": "ipython",
    "version": 3
   },
   "file_extension": ".py",
   "mimetype": "text/x-python",
   "name": "python",
   "nbconvert_exporter": "python",
   "pygments_lexer": "ipython3",
   "version": "3.13.5"
  }
 },
 "nbformat": 4,
 "nbformat_minor": 5
}
