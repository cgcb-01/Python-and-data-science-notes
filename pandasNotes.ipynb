{
 "cells": [
  {
   "cell_type": "markdown",
   "id": "f9913640",
   "metadata": {},
   "source": [
    "# PANDAS\n",
    "\n",
    "---\n",
    "\n",
    "It works same like storing data in a Excel Sheet\n",
    "But the Limitations of Excel are\n",
    "\n",
    "- Limitation By Size (only million rows)\n",
    "- Complex data Transformation\n",
    "- Automation\n",
    "- Cross platform Capabilities\n",
    "\n",
    "In Pandas it is a array\n",
    "\n",
    "- Series (1D array)\n",
    "- Dataframes (2D array)\n",
    "\n",
    "Features are atrributes and the data rae called observation\n",
    "\n",
    "###Excel Terminology -> Pandas terminology\n",
    "Worksheet -> Dataframe\n"
   ]
  }
 ],
 "metadata": {
  "language_info": {
   "name": "python"
  }
 },
 "nbformat": 4,
 "nbformat_minor": 5
}
