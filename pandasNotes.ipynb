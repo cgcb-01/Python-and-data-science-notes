{
 "cells": [
  {
   "cell_type": "markdown",
   "id": "f9913640",
   "metadata": {},
   "source": [
    "# PANDAS\n",
    "\n",
    "---\n",
    "\n",
    "It works same like storing data in a Excel Sheet\n",
    "But the Limitations of Excel are\n",
    "\n",
    "- Limitation By Size (only million rows)\n",
    "- Complex data Transformation\n",
    "- Automation\n",
    "- Cross platform Capabilities\n",
    "\n",
    "In Pandas it is a array\n",
    "\n",
    "- Series (1D array)\n",
    "- Dataframes (2D array)\n",
    "\n",
    "Features are atrributes and the data rae called observation\n",
    "\n",
    "### Excel Terminology -> Pandas terminology\n",
    "\n",
    "- Worksheet -> Dataframe\n",
    "- Column -> Series\n",
    "- Row Heading or number -> Index\n",
    "- Empty cell -> NaN\n"
   ]
  },
  {
   "cell_type": "markdown",
   "id": "3ae55479",
   "metadata": {},
   "source": [
    "## 1. Creating a dataframe from an array\n",
    "\n",
    "### 1.1 Option 1\n"
   ]
  },
  {
   "cell_type": "code",
   "execution_count": 10,
   "id": "b3546dbd",
   "metadata": {},
   "outputs": [],
   "source": [
    "import pandas as pd\n",
    "import numpy as np"
   ]
  },
  {
   "cell_type": "code",
   "execution_count": 11,
   "id": "5693f81e",
   "metadata": {},
   "outputs": [
    {
     "data": {
      "text/html": [
       "<div>\n",
       "<style scoped>\n",
       "    .dataframe tbody tr th:only-of-type {\n",
       "        vertical-align: middle;\n",
       "    }\n",
       "\n",
       "    .dataframe tbody tr th {\n",
       "        vertical-align: top;\n",
       "    }\n",
       "\n",
       "    .dataframe thead th {\n",
       "        text-align: right;\n",
       "    }\n",
       "</style>\n",
       "<table border=\"1\" class=\"dataframe\">\n",
       "  <thead>\n",
       "    <tr style=\"text-align: right;\">\n",
       "      <th></th>\n",
       "      <th>col1</th>\n",
       "      <th>col2</th>\n",
       "      <th>col3</th>\n",
       "    </tr>\n",
       "  </thead>\n",
       "  <tbody>\n",
       "    <tr>\n",
       "      <th>row1</th>\n",
       "      <td>1</td>\n",
       "      <td>2</td>\n",
       "      <td>3</td>\n",
       "    </tr>\n",
       "    <tr>\n",
       "      <th>row2</th>\n",
       "      <td>4</td>\n",
       "      <td>5</td>\n",
       "      <td>6</td>\n",
       "    </tr>\n",
       "    <tr>\n",
       "      <th>row3</th>\n",
       "      <td>7</td>\n",
       "      <td>8</td>\n",
       "      <td>9</td>\n",
       "    </tr>\n",
       "  </tbody>\n",
       "</table>\n",
       "</div>"
      ],
      "text/plain": [
       "      col1  col2  col3\n",
       "row1     1     2     3\n",
       "row2     4     5     6\n",
       "row3     7     8     9"
      ]
     },
     "execution_count": 11,
     "metadata": {},
     "output_type": "execute_result"
    }
   ],
   "source": [
    "# creating a array\n",
    "data = np.array([[1, 2, 3], [4, 5, 6], [7, 8, 9]])\n",
    "\n",
    "# creating a dataframe form the array using pandas\n",
    "df=pd.DataFrame(data,columns=['col1','col2','col3'],index=['row1','row2','row3']) \n",
    "\n",
    "# printing the dataframe\n",
    "df"
   ]
  },
  {
   "cell_type": "markdown",
   "id": "f2483172",
   "metadata": {},
   "source": [
    "### option 2 . Creating a array with list\n"
   ]
  },
  {
   "cell_type": "code",
   "execution_count": 14,
   "id": "c1badb26",
   "metadata": {
    "vscode": {
     "languageId": "perl"
    }
   },
   "outputs": [
    {
     "data": {
      "text/html": [
       "<div>\n",
       "<style scoped>\n",
       "    .dataframe tbody tr th:only-of-type {\n",
       "        vertical-align: middle;\n",
       "    }\n",
       "\n",
       "    .dataframe tbody tr th {\n",
       "        vertical-align: top;\n",
       "    }\n",
       "\n",
       "    .dataframe thead th {\n",
       "        text-align: right;\n",
       "    }\n",
       "</style>\n",
       "<table border=\"1\" class=\"dataframe\">\n",
       "  <thead>\n",
       "    <tr style=\"text-align: right;\">\n",
       "      <th></th>\n",
       "      <th>Name</th>\n",
       "      <th>Age</th>\n",
       "      <th>Relation</th>\n",
       "    </tr>\n",
       "  </thead>\n",
       "  <tbody>\n",
       "    <tr>\n",
       "      <th>A.</th>\n",
       "      <td>Sutapa</td>\n",
       "      <td>19</td>\n",
       "      <td>Me</td>\n",
       "    </tr>\n",
       "    <tr>\n",
       "      <th>B.</th>\n",
       "      <td>Sandipan</td>\n",
       "      <td>15</td>\n",
       "      <td>Brother</td>\n",
       "    </tr>\n",
       "    <tr>\n",
       "      <th>C.</th>\n",
       "      <td>Prity</td>\n",
       "      <td>20</td>\n",
       "      <td>Friend</td>\n",
       "    </tr>\n",
       "  </tbody>\n",
       "</table>\n",
       "</div>"
      ],
      "text/plain": [
       "        Name  Age Relation\n",
       "A.    Sutapa   19       Me\n",
       "B.  Sandipan   15  Brother\n",
       "C.     Prity   20   Friend"
      ]
     },
     "execution_count": 14,
     "metadata": {},
     "output_type": "execute_result"
    }
   ],
   "source": [
    "# creating a array with list\n",
    "my_list=[['Sutapa',19,'Me'],\n",
    "           ['Sandipan',15,'Brother'],\n",
    "           ['Prity',20,'Friend']]\n",
    "# creating a dataframe from the list using pandas\n",
    "df=pd.DataFrame(my_list,columns=['Name','Age','Relation'],index=['A.','B.','C.'])\n",
    "df"
   ]
  }
 ],
 "metadata": {
  "kernelspec": {
   "display_name": "Python 3",
   "language": "python",
   "name": "python3"
  },
  "language_info": {
   "codemirror_mode": {
    "name": "ipython",
    "version": 3
   },
   "file_extension": ".py",
   "mimetype": "text/x-python",
   "name": "python",
   "nbconvert_exporter": "python",
   "pygments_lexer": "ipython3",
   "version": "3.13.5"
  }
 },
 "nbformat": 4,
 "nbformat_minor": 5
}
