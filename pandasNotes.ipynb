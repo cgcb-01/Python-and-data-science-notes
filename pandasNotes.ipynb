{
 "cells": [
  {
   "cell_type": "markdown",
   "id": "f9913640",
   "metadata": {},
   "source": [
    "# PANDAS\n",
    "\n",
    "---\n",
    "\n",
    "It works same like storing data in a Excel Sheet\n",
    "But the Limitations of Excel are\n",
    "\n",
    "- Limitation By Size (only million rows)\n",
    "- Complex data Transformation\n",
    "- Automation\n",
    "- Cross platform Capabilities\n",
    "\n",
    "In Pandas it is a array\n",
    "\n",
    "- Series (1D array)\n",
    "- Dataframes (2D array)\n",
    "\n",
    "Features are atrributes and the data rae called observation\n",
    "\n",
    "### Excel Terminology -> Pandas terminology\n",
    "\n",
    "- Worksheet -> Dataframe\n",
    "- Column -> Series\n",
    "- Row Heading or number -> Index\n",
    "- Empty cell -> NaN\n"
   ]
  },
  {
   "cell_type": "markdown",
   "id": "3ae55479",
   "metadata": {},
   "source": [
    "## 1. Creating a dataframe from an array\n",
    "\n",
    "### 1.1 Option 1\n"
   ]
  },
  {
   "cell_type": "code",
   "execution_count": 17,
   "id": "b3546dbd",
   "metadata": {},
   "outputs": [],
   "source": [
    "import pandas as pd\n",
    "import numpy as np"
   ]
  },
  {
   "cell_type": "code",
   "execution_count": 18,
   "id": "5693f81e",
   "metadata": {},
   "outputs": [
    {
     "data": {
      "text/html": [
       "<div>\n",
       "<style scoped>\n",
       "    .dataframe tbody tr th:only-of-type {\n",
       "        vertical-align: middle;\n",
       "    }\n",
       "\n",
       "    .dataframe tbody tr th {\n",
       "        vertical-align: top;\n",
       "    }\n",
       "\n",
       "    .dataframe thead th {\n",
       "        text-align: right;\n",
       "    }\n",
       "</style>\n",
       "<table border=\"1\" class=\"dataframe\">\n",
       "  <thead>\n",
       "    <tr style=\"text-align: right;\">\n",
       "      <th></th>\n",
       "      <th>col1</th>\n",
       "      <th>col2</th>\n",
       "      <th>col3</th>\n",
       "    </tr>\n",
       "  </thead>\n",
       "  <tbody>\n",
       "    <tr>\n",
       "      <th>row1</th>\n",
       "      <td>1</td>\n",
       "      <td>2</td>\n",
       "      <td>3</td>\n",
       "    </tr>\n",
       "    <tr>\n",
       "      <th>row2</th>\n",
       "      <td>4</td>\n",
       "      <td>5</td>\n",
       "      <td>6</td>\n",
       "    </tr>\n",
       "    <tr>\n",
       "      <th>row3</th>\n",
       "      <td>7</td>\n",
       "      <td>8</td>\n",
       "      <td>9</td>\n",
       "    </tr>\n",
       "  </tbody>\n",
       "</table>\n",
       "</div>"
      ],
      "text/plain": [
       "      col1  col2  col3\n",
       "row1     1     2     3\n",
       "row2     4     5     6\n",
       "row3     7     8     9"
      ]
     },
     "execution_count": 18,
     "metadata": {},
     "output_type": "execute_result"
    }
   ],
   "source": [
    "# creating a array\n",
    "data = np.array([[1, 2, 3], [4, 5, 6], [7, 8, 9]])\n",
    "\n",
    "# creating a dataframe form the array using pandas\n",
    "df=pd.DataFrame(data,columns=['col1','col2','col3'],index=['row1','row2','row3']) \n",
    "\n",
    "# printing the dataframe\n",
    "df"
   ]
  },
  {
   "cell_type": "markdown",
   "id": "f2483172",
   "metadata": {},
   "source": [
    "### 1.2 option 2(Creating a array with list)\n"
   ]
  },
  {
   "cell_type": "code",
   "execution_count": null,
   "id": "c1badb26",
   "metadata": {},
   "outputs": [
    {
     "data": {
      "text/html": [
       "<div>\n",
       "<style scoped>\n",
       "    .dataframe tbody tr th:only-of-type {\n",
       "        vertical-align: middle;\n",
       "    }\n",
       "\n",
       "    .dataframe tbody tr th {\n",
       "        vertical-align: top;\n",
       "    }\n",
       "\n",
       "    .dataframe thead th {\n",
       "        text-align: right;\n",
       "    }\n",
       "</style>\n",
       "<table border=\"1\" class=\"dataframe\">\n",
       "  <thead>\n",
       "    <tr style=\"text-align: right;\">\n",
       "      <th></th>\n",
       "      <th>Name</th>\n",
       "      <th>Age</th>\n",
       "      <th>Relation</th>\n",
       "    </tr>\n",
       "  </thead>\n",
       "  <tbody>\n",
       "    <tr>\n",
       "      <th>A.</th>\n",
       "      <td>Sutapa</td>\n",
       "      <td>19</td>\n",
       "      <td>Me</td>\n",
       "    </tr>\n",
       "    <tr>\n",
       "      <th>B.</th>\n",
       "      <td>Sandipan</td>\n",
       "      <td>15</td>\n",
       "      <td>Brother</td>\n",
       "    </tr>\n",
       "    <tr>\n",
       "      <th>C.</th>\n",
       "      <td>Prity</td>\n",
       "      <td>20</td>\n",
       "      <td>Friend</td>\n",
       "    </tr>\n",
       "  </tbody>\n",
       "</table>\n",
       "</div>"
      ],
      "text/plain": [
       "        Name  Age Relation\n",
       "A.    Sutapa   19       Me\n",
       "B.  Sandipan   15  Brother\n",
       "C.     Prity   20   Friend"
      ]
     },
     "execution_count": 19,
     "metadata": {},
     "output_type": "execute_result"
    }
   ],
   "source": [
    "# creating a array with list\n",
    "my_list=[['Sutapa',19,'Me'],\n",
    "           ['Sandipan',15,'Brother'],\n",
    "           ['Prity',20,'Friend']]\n",
    "# creating a dataframe from the list using pandas\n",
    "df=pd.DataFrame(my_list,columns=['Name','Age','Relation'],index=['A.','B.','C.'])\n",
    "df"
   ]
  },
  {
   "cell_type": "markdown",
   "id": "c2d251a9",
   "metadata": {},
   "source": [
    "## 2. By using a Dictionary\n"
   ]
  },
  {
   "cell_type": "code",
   "execution_count": 30,
   "id": "ec641932",
   "metadata": {},
   "outputs": [
    {
     "data": {
      "text/html": [
       "<div>\n",
       "<style scoped>\n",
       "    .dataframe tbody tr th:only-of-type {\n",
       "        vertical-align: middle;\n",
       "    }\n",
       "\n",
       "    .dataframe tbody tr th {\n",
       "        vertical-align: top;\n",
       "    }\n",
       "\n",
       "    .dataframe thead th {\n",
       "        text-align: right;\n",
       "    }\n",
       "</style>\n",
       "<table border=\"1\" class=\"dataframe\">\n",
       "  <thead>\n",
       "    <tr style=\"text-align: right;\">\n",
       "      <th></th>\n",
       "      <th>states</th>\n",
       "      <th>Population</th>\n",
       "    </tr>\n",
       "  </thead>\n",
       "  <tbody>\n",
       "    <tr>\n",
       "      <th>0</th>\n",
       "      <td>West Bengal</td>\n",
       "      <td>10000000</td>\n",
       "    </tr>\n",
       "    <tr>\n",
       "      <th>1</th>\n",
       "      <td>Assam</td>\n",
       "      <td>2000000</td>\n",
       "    </tr>\n",
       "    <tr>\n",
       "      <th>2</th>\n",
       "      <td>Bihar</td>\n",
       "      <td>30000000</td>\n",
       "    </tr>\n",
       "    <tr>\n",
       "      <th>3</th>\n",
       "      <td>Sikkim</td>\n",
       "      <td>25000</td>\n",
       "    </tr>\n",
       "  </tbody>\n",
       "</table>\n",
       "</div>"
      ],
      "text/plain": [
       "        states  Population\n",
       "0  West Bengal    10000000\n",
       "1        Assam     2000000\n",
       "2        Bihar    30000000\n",
       "3       Sikkim       25000"
      ]
     },
     "execution_count": 30,
     "metadata": {},
     "output_type": "execute_result"
    }
   ],
   "source": [
    "# list of the dictionaries\n",
    "states=['West Bengal','Assam','Bihar','Sikkim']\n",
    "Population=[10000000,2000000,30000000,25000]\n",
    "# creating a dictionary out of the list\n",
    "my_dict={'states':states,'Population':Population}\n",
    "\n",
    "# creating a dataframe from the dictionary using pandas\n",
    "df=pd.DataFrame(my_dict,columns=['states','Population'])\n",
    "df"
   ]
  },
  {
   "cell_type": "markdown",
   "id": "617323c4",
   "metadata": {},
   "source": [
    "## 3. Creating a Dataframe from a CSV file\n"
   ]
  },
  {
   "cell_type": "code",
   "execution_count": null,
   "id": "a3f83b5a",
   "metadata": {},
   "outputs": [
    {
     "data": {
      "text/html": [
       "<div>\n",
       "<style scoped>\n",
       "    .dataframe tbody tr th:only-of-type {\n",
       "        vertical-align: middle;\n",
       "    }\n",
       "\n",
       "    .dataframe tbody tr th {\n",
       "        vertical-align: top;\n",
       "    }\n",
       "\n",
       "    .dataframe thead th {\n",
       "        text-align: right;\n",
       "    }\n",
       "</style>\n",
       "<table border=\"1\" class=\"dataframe\">\n",
       "  <thead>\n",
       "    <tr style=\"text-align: right;\">\n",
       "      <th></th>\n",
       "      <th>gender</th>\n",
       "      <th>race/ethnicity</th>\n",
       "      <th>parental level of education</th>\n",
       "      <th>lunch</th>\n",
       "      <th>test preparation course</th>\n",
       "      <th>math score</th>\n",
       "      <th>reading score</th>\n",
       "      <th>writing score</th>\n",
       "    </tr>\n",
       "  </thead>\n",
       "  <tbody>\n",
       "    <tr>\n",
       "      <th>998</th>\n",
       "      <td>female</td>\n",
       "      <td>group D</td>\n",
       "      <td>some college</td>\n",
       "      <td>standard</td>\n",
       "      <td>completed</td>\n",
       "      <td>68</td>\n",
       "      <td>78</td>\n",
       "      <td>77</td>\n",
       "    </tr>\n",
       "    <tr>\n",
       "      <th>999</th>\n",
       "      <td>female</td>\n",
       "      <td>group D</td>\n",
       "      <td>some college</td>\n",
       "      <td>free/reduced</td>\n",
       "      <td>none</td>\n",
       "      <td>77</td>\n",
       "      <td>86</td>\n",
       "      <td>86</td>\n",
       "    </tr>\n",
       "  </tbody>\n",
       "</table>\n",
       "</div>"
      ],
      "text/plain": [
       "     gender race/ethnicity parental level of education         lunch  \\\n",
       "998  female        group D                some college      standard   \n",
       "999  female        group D                some college  free/reduced   \n",
       "\n",
       "    test preparation course  math score  reading score  writing score  \n",
       "998               completed          68             78             77  \n",
       "999                    none          77             86             86  "
      ]
     },
     "execution_count": 29,
     "metadata": {},
     "output_type": "execute_result"
    }
   ],
   "source": [
    "# reading a csv file\n",
    "df=pd.read_csv('C:/Users/Lenovo/Downloads/StudentsPerformance.csv')\n",
    "df.head() # displaying the first 5 rows of the dataframe\n",
    "df.tail() # displaying the last 5 rows of the dataframe\n",
    "df.tail(2) # displaying the last 10 rows of the dataframe"
   ]
  },
  {
   "cell_type": "markdown",
   "id": "abbc195a",
   "metadata": {},
   "source": [
    "## Attributes and Methods\n"
   ]
  },
  {
   "cell_type": "code",
   "execution_count": null,
   "id": "704972b5",
   "metadata": {},
   "outputs": [
    {
     "ename": "NameError",
     "evalue": "name 'df' is not defined",
     "output_type": "error",
     "traceback": [
      "\u001b[31m---------------------------------------------------------------------------\u001b[39m",
      "\u001b[31mNameError\u001b[39m                                 Traceback (most recent call last)",
      "\u001b[36mCell\u001b[39m\u001b[36m \u001b[39m\u001b[32mIn[1]\u001b[39m\u001b[32m, line 1\u001b[39m\n\u001b[32m----> \u001b[39m\u001b[32m1\u001b[39m \u001b[43mdf\u001b[49m.shape \u001b[38;5;66;03m# displaying the shape of the dataframe (rows, columns) No of rows and columns\u001b[39;00m\n",
      "\u001b[31mNameError\u001b[39m: name 'df' is not defined"
     ]
    }
   ],
   "source": [
    "# reading a csv file\n",
    "df=pd.read_csv('C:/Users/Lenovo/Downloads/StudentsPerformance.csv')\n",
    "df.shape # displaying the shape of the dataframe (rows, columns) No of rows and columns"
   ]
  },
  {
   "cell_type": "code",
   "execution_count": null,
   "id": "f7170a3d",
   "metadata": {},
   "outputs": [],
   "source": [
    "df.index # displaying the index of the dataframe"
   ]
  },
  {
   "cell_type": "code",
   "execution_count": null,
   "id": "2069b431",
   "metadata": {},
   "outputs": [],
   "source": [
    "df.columns # displaying the columns of the dataframe"
   ]
  }
 ],
 "metadata": {
  "kernelspec": {
   "display_name": "Python 3",
   "language": "python",
   "name": "python3"
  },
  "language_info": {
   "codemirror_mode": {
    "name": "ipython",
    "version": 3
   },
   "file_extension": ".py",
   "mimetype": "text/x-python",
   "name": "python",
   "nbconvert_exporter": "python",
   "pygments_lexer": "ipython3",
   "version": "3.13.5"
  }
 },
 "nbformat": 4,
 "nbformat_minor": 5
}
