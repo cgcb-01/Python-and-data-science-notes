{
 "cells": [
  {
   "cell_type": "markdown",
   "id": "9c77848d",
   "metadata": {},
   "source": [
    "# NumPy and its basics\n"
   ]
  },
  {
   "cell_type": "markdown",
   "id": "455a6112",
   "metadata": {},
   "source": [
    "creating a nDarray\n"
   ]
  },
  {
   "cell_type": "code",
   "execution_count": null,
   "id": "87ff1997",
   "metadata": {},
   "outputs": [
    {
     "data": {
      "text/plain": [
       "2"
      ]
     },
     "execution_count": 7,
     "metadata": {},
     "output_type": "execute_result"
    }
   ],
   "source": [
    "# making a numpy nd array\n",
    "import numpy as np\n",
    "data=np.random.rand(2,3) # create a 2x3 array\n",
    "data*=10\n",
    "data+data\n",
    "data.shape # dimension of the array\n",
    "data.size # prints no of elements\n",
    "data.dtype # prints datatype\n",
    "data.ndim # prints no of dimensions"
   ]
  },
  {
   "cell_type": "markdown",
   "id": "c0c99c22",
   "metadata": {},
   "source": [
    "creating a zero initialised or empty ndarray\n"
   ]
  },
  {
   "cell_type": "code",
   "execution_count": null,
   "id": "3b763367",
   "metadata": {},
   "outputs": [
    {
     "data": {
      "text/plain": [
       "array([[[0., 0.],\n",
       "        [0., 0.],\n",
       "        [0., 0.]],\n",
       "\n",
       "       [[0., 0.],\n",
       "        [0., 0.],\n",
       "        [0., 0.]]])"
      ]
     },
     "execution_count": 8,
     "metadata": {},
     "output_type": "execute_result"
    }
   ],
   "source": [
    "# np.empty() it creates an array without initialising its values. The values are whatever is in memory at that time.\n",
    "data2=np.empty((2,3,2))\n",
    "data2\n",
    "# to create arrays initialised wit zeroes\n",
    "data3=np.zeros((2,3,2))\n",
    "data3"
   ]
  },
  {
   "cell_type": "markdown",
   "id": "106c5c6e",
   "metadata": {},
   "source": [
    "**Type casting** : To convert or cast an array from one dtype to another using ndarray's: _astype()_ method.\n"
   ]
  },
  {
   "cell_type": "code",
   "execution_count": null,
   "id": "c74c098f",
   "metadata": {},
   "outputs": [
    {
     "data": {
      "text/plain": [
       "dtype('float64')"
      ]
     },
     "execution_count": 9,
     "metadata": {},
     "output_type": "execute_result"
    }
   ],
   "source": [
    "arr=np.array([[1,2,3],[4,5,6]])\n",
    "arr.dtype\n",
    "float_arr=arr.astype('float64') # type casting\n",
    "float_arr.dtype "
   ]
  },
  {
   "cell_type": "code",
   "execution_count": null,
   "id": "26c11230",
   "metadata": {},
   "outputs": [
    {
     "data": {
      "text/plain": [
       "array([[1, 2, 3],\n",
       "       [4, 5, 6]])"
      ]
     },
     "execution_count": 15,
     "metadata": {},
     "output_type": "execute_result"
    }
   ],
   "source": [
    "arr=np.array([['a','B','A'],['4','0','e']])\n",
    "arr.dtype\n",
    "#arr.astype('int')# gives error cant cange char to int like this\n",
    "arr_int=np.vectorize(ord)(arr)\n",
    "arr_int.dtype\n",
    "arr_int\n",
    "# string to int possible only if all are numeric\n",
    "arr=np.array([['1','2','3'],['4','5','6']])\n",
    "arr_int=arr.astype('int')\n",
    "arr_int"
   ]
  },
  {
   "cell_type": "markdown",
   "id": "c8f59680",
   "metadata": {},
   "source": [
    "we sould be cautious when using numpy.string\\_ type as string data in NumPy is fixed size and may truncate input witout warning.\n"
   ]
  },
  {
   "cell_type": "markdown",
   "id": "9adc043d",
   "metadata": {},
   "source": [
    "## Arithmetic with NumPy Arrays\n"
   ]
  },
  {
   "cell_type": "markdown",
   "id": "9d923843",
   "metadata": {},
   "source": [
    "This is mostly called as _vectorisation_ by NumPy users. Any arithmetic operation between equal-size arrays applies te operation element wise.\n"
   ]
  },
  {
   "cell_type": "code",
   "execution_count": null,
   "id": "a15bf65b",
   "metadata": {},
   "outputs": [
    {
     "data": {
      "text/plain": [
       "array([[ 1, -3, -6],\n",
       "       [ 0,  0,  0]])"
      ]
     },
     "execution_count": 17,
     "metadata": {},
     "output_type": "execute_result"
    }
   ],
   "source": [
    "arr=np.array([[1,2,3],[4,5,6]])\n",
    "mult_arr=arr*arr # element wise multiplication\n",
    "mult_arr\n",
    "add_arr=arr+arr # element wise addition\n",
    "add_arr\n",
    "arr2=np.array([[0,5,9],[4,5,6]])\n",
    "sub_arr=arr-arr2 # element wise subtraction\n",
    "sub_arr"
   ]
  },
  {
   "cell_type": "markdown",
   "id": "6b7b0c26",
   "metadata": {},
   "source": [
    "Arithmetic operations with scalar propagate te scalar arguments to eac elements.\n"
   ]
  },
  {
   "cell_type": "code",
   "execution_count": null,
   "id": "58850e6b",
   "metadata": {},
   "outputs": [
    {
     "data": {
      "text/plain": [
       "array([[False,  True,  True],\n",
       "       [False, False, False]])"
      ]
     },
     "execution_count": 20,
     "metadata": {},
     "output_type": "execute_result"
    }
   ],
   "source": [
    "2/arr # element wise division\n",
    "arr2/arr # element wise division with another array\n",
    "arr2**0.5 # square root\n",
    "arr2>arr # element wise comparison"
   ]
  },
  {
   "cell_type": "markdown",
   "id": "98b5b79c",
   "metadata": {},
   "source": [
    "## Basic Indexing and Slicing\n"
   ]
  },
  {
   "cell_type": "code",
   "execution_count": null,
   "id": "58ff9bec",
   "metadata": {},
   "outputs": [
    {
     "name": "stdout",
     "output_type": "stream",
     "text": [
      "arr2: [94 80  0 11 94]\n",
      "arr: [ 3  4  3 66 72 94 80  0  1  2]\n"
     ]
    }
   ],
   "source": [
    "arr = np.random.randint(0, 100, 10)\n",
    "arr[5:8]  # slicing includes start index and excludes end index\n",
    "arr2=arr[5:] # slicing from index 5 to end\n",
    "arr2[2]=0\n",
    "print(\"arr2:\", arr2)\n",
    "arr[8:]=np.array([1,2]) # slicing from index 8 to end\n",
    "print(\"arr:\", arr)"
   ]
  },
  {
   "cell_type": "code",
   "execution_count": null,
   "id": "cf0b7033",
   "metadata": {},
   "outputs": [
    {
     "name": "stdout",
     "output_type": "stream",
     "text": [
      "[[[27 57 92 57]\n",
      "  [16 90 30 91]\n",
      "  [78 75 16 89]]\n",
      "\n",
      " [[17 28 79 93]\n",
      "  [ 6 22 36 58]\n",
      "  [27 28 70 44]]]\n",
      "[16 90 30 91]\n",
      "30\n",
      "\n",
      "From Matrix 1, all rows, 3rd column from each row:\n",
      "[79 36 70]\n",
      "\n",
      "From every matrix, the 2nd row, all columns:\n",
      "[[16 90 30 91]\n",
      " [ 6 22 36 58]]\n",
      "\n",
      "From every matrix, rows 1 and 2, all columns:\n",
      "[[[16 90 30 91]\n",
      "  [78 75 16 89]]\n",
      "\n",
      " [[ 6 22 36 58]\n",
      "  [27 28 70 44]]]\n"
     ]
    }
   ],
   "source": [
    "arr_3d= np.random.randint(0, 100, (2, 3, 4))\n",
    "#accessing a 3d array \n",
    "print(arr_3d)\n",
    "print(arr_3d[0, 1])\n",
    "print(arr_3d[0, 1, 2])\n",
    "\n",
    "# slicing a 3d array\n",
    "print(\"\\nFrom Matrix 1, all rows, 3rd column from each row:\")\n",
    "print(arr_3d[1,:,2]) # first for 1d then next for `2d` and last for `3d\n",
    "print(\"\\nFrom every matrix, the 2nd row, all columns:\")\n",
    "print(arr_3d[:, 1, :]) \n",
    "# slicing a 3d array with multiple rows\n",
    "print(\"\\nFrom every matrix, rows 1 and 2, all columns:\")\n",
    "print(arr_3d[:, 1:3, :])\n"
   ]
  },
  {
   "cell_type": "markdown",
   "id": "cb08b717",
   "metadata": {},
   "source": [
    "### Boolean Indexing\n"
   ]
  },
  {
   "cell_type": "code",
   "execution_count": null,
   "id": "1af4693a",
   "metadata": {},
   "outputs": [
    {
     "name": "stdout",
     "output_type": "stream",
     "text": [
      "Data for 'Bob':\n",
      "[-0.68979558 -1.00677598  0.13607366 -1.24921743]\n",
      "[-0.94370258  0.18424928 -0.34728019 -1.72525291]\n",
      "\n",
      "Data for 'Bob' or 'Joe' with slicing:\n"
     ]
    },
    {
     "data": {
      "text/plain": [
       "array([[ 0.13607366, -1.24921743],\n",
       "       [ 1.15774392, -0.66627486],\n",
       "       [-0.34728019, -1.72525291],\n",
       "       [-0.54630892, -1.27050819],\n",
       "       [-1.81747532,  0.48666766]])"
      ]
     },
     "execution_count": 41,
     "metadata": {},
     "output_type": "execute_result"
    }
   ],
   "source": [
    "names = np.array(['Bob', 'Joe', 'Will', 'Bob', 'Will', 'Joe', 'Joe'])\n",
    "data = np.random.randn(7, 4)\n",
    "# boolean indexing\n",
    "print(\"Data for 'Bob':\")\n",
    "for i in range(len(names)):\n",
    "    if names[i] == 'Bob':\n",
    "        print(data[i])\n",
    "\n",
    "# boolean indexing with numpy Same as above but more efficient\n",
    "print(\"\\nData for 'Bob' using boolean indexing:\")\n",
    "mask = (names == 'Bob') \n",
    "data[mask] \n",
    "# or can also be done like this\n",
    "data[names == 'Bob']\n",
    "# then slicing can be done on the result\n",
    "print(\"\\nData for 'Bob' or 'Joe' with slicing:\")\n",
    "data[(names == 'Bob') | (names == 'Joe')][:, 2:4]  \n"
   ]
  },
  {
   "cell_type": "markdown",
   "id": "9b111673",
   "metadata": {},
   "source": [
    "Setting values wit boolean arrays works. Say want to set value of data to 7 if te name is not Joe.\n"
   ]
  },
  {
   "cell_type": "code",
   "execution_count": null,
   "id": "9975be3a",
   "metadata": {},
   "outputs": [
    {
     "data": {
      "text/plain": [
       "array([[7.        , 7.        , 7.        , 7.        ],\n",
       "       [0.13779353, 0.        , 1.15774392, 0.        ],\n",
       "       [7.        , 7.        , 7.        , 7.        ],\n",
       "       [7.        , 7.        , 7.        , 7.        ],\n",
       "       [7.        , 7.        , 7.        , 7.        ],\n",
       "       [0.        , 0.        , 0.        , 0.        ],\n",
       "       [0.52465045, 0.35215325, 0.        , 0.48666766]])"
      ]
     },
     "execution_count": 46,
     "metadata": {},
     "output_type": "execute_result"
    }
   ],
   "source": [
    "data[names !='Joe']=7\n",
    "data\n",
    "# same as\n",
    "for i in range(len(names)):\n",
    "    if names[i] != 'Joe':\n",
    "        data[i] = 7 \n",
    "data\n",
    "\n",
    "# Example 2\n",
    "data[data < 0] = 0 # setting negative values to 0\n",
    "data"
   ]
  },
  {
   "cell_type": "markdown",
   "id": "8e526a0a",
   "metadata": {},
   "source": [
    "## Transposing Array and Swapping Axes\n"
   ]
  },
  {
   "cell_type": "markdown",
   "id": "9e8abf27",
   "metadata": {},
   "source": [
    "Transposing is a special type of Reshape were the rows becomes the column and col as row. It similarly returns a view on the underlying data without changing any data. Special attribute of it is _'T'_\n"
   ]
  },
  {
   "cell_type": "code",
   "execution_count": null,
   "id": "ec7519df",
   "metadata": {},
   "outputs": [],
   "source": [
    "# reshape\n",
    "arr=np.arrange(15).reshape((3, 5)) # reshape to 3 rows and 5 columns\n",
    "print(\"\\nReshaped Array:\")\n",
    "print(arr)\n",
    "#Transposing \n",
    "transposed_arr = arr.T \n",
    "print(\"\\nTransposed Array:\")   \n",
    "print(transposed_arr)"
   ]
  },
  {
   "cell_type": "markdown",
   "id": "e1875e35",
   "metadata": {},
   "source": [
    "## Universal Function : First Element-wise Array Functions\n"
   ]
  },
  {
   "cell_type": "markdown",
   "id": "cb63137b",
   "metadata": {},
   "source": [
    "Few Common universal Functions are:\n",
    "\n",
    "1. abs,fabs : compute absolute value element wise, floating point,complex nos\n",
    "2. sqrt : Compute the square root\n",
    "3. square : Compute the square of each element\n",
    "4. exp : Compute the exponent of each element\n",
    "5. sign :\n",
    "6. ceil,floor :\n",
    "7. log,log 10,log 2,log 1p :\n",
    "8. isnan :\n",
    "9. rint :\n",
    "10. isfinite, isinf :\n",
    "11. logical_not :\n"
   ]
  },
  {
   "cell_type": "code",
   "execution_count": null,
   "id": "105a0ab1",
   "metadata": {},
   "outputs": [
    {
     "name": "stdout",
     "output_type": "stream",
     "text": [
      "[0 1 2 3 4 5 6 7 8 9]\n",
      "\n",
      "Square root of each element:\n",
      "[0.         1.         1.41421356 1.73205081 2.         2.23606798\n",
      " 2.44948974 2.64575131 2.82842712 3.        ]\n"
     ]
    }
   ],
   "source": [
    "import numpy as np\n",
    "arr=np.arange(10)\n",
    "print(arr)\n",
    "# Element-wise square root\n",
    "print(\"\\nSquare root of each element:\")\n",
    "print(np.sqrt(arr))\n"
   ]
  },
  {
   "cell_type": "markdown",
   "id": "d73ee615",
   "metadata": {},
   "source": [
    "use of modf and fabs\n"
   ]
  },
  {
   "cell_type": "code",
   "execution_count": null,
   "id": "400c5930",
   "metadata": {},
   "outputs": [
    {
     "name": "stdout",
     "output_type": "stream",
     "text": [
      "Original Array: [ 4.36106069 -8.10254858 -4.83001326 -0.73797325  4.89921375  1.88686194\n",
      "  1.7170945 ]\n",
      "Absolute values: [4.36106069 8.10254858 4.83001326 0.73797325 4.89921375 1.88686194\n",
      " 1.7170945 ]\n",
      "\n",
      "Remainder: [ 0.36106069 -0.10254858 -0.83001326 -0.73797325  0.89921375  0.88686194\n",
      "  0.7170945 ]\n",
      "\n",
      "Whole: [ 4. -8. -4. -0.  4.  1.  1.]\n"
     ]
    }
   ],
   "source": [
    "arr=np.random.randn(7)*5\n",
    "print(\"Original Array:\", arr)\n",
    "remainder,whole=np.modf(arr) # returns fractional and whole part of the array\n",
    "print(\"\\nAbsolute values:\",np.fabs(arr))\n",
    "print(\"\\nRemainder:\", remainder)  \n",
    "print(\"\\nWhole:\", whole)  # prints whole part of the array"
   ]
  },
  {
   "cell_type": "code",
   "execution_count": null,
   "id": "6117e2c3",
   "metadata": {},
   "outputs": [
    {
     "name": "stdout",
     "output_type": "stream",
     "text": [
      "Original Array: [-0.16992395 -3.66137718 -1.74630717  5.05801064 -7.98319617  4.39967007\n",
      " -7.30410385 -2.64466443 -0.08858375 -1.64206424]\n",
      "\n",
      "Square root of each element:\n",
      "[       nan        nan        nan 2.24900214        nan 2.09753905\n",
      "        nan        nan        nan        nan]\n",
      "[ True  True  True False  True False  True  True  True  True]\n",
      "[False False False False False False False False False False]\n",
      "[False False False  True False  True False False False False]\n"
     ]
    },
    {
     "name": "stderr",
     "output_type": "stream",
     "text": [
      "C:\\Users\\Lenovo\\AppData\\Local\\Temp\\ipykernel_9668\\3840325361.py:5: RuntimeWarning: invalid value encountered in sqrt\n",
      "  arr=np.sqrt(arr)\n"
     ]
    }
   ],
   "source": [
    "arr=np.random.randn(10)*5\n",
    "print(\"Original Array:\", arr)\n",
    "# Element-wise square root\n",
    "print(\"\\nSquare root of each element:\")\n",
    "arr=np.sqrt(arr) \n",
    "print(arr)\n",
    "print(np.isnan(arr)) # checks for NaN values\n",
    "print(np.isinf(arr))# checks for infinite values\n",
    "print(np.isfinite(arr)) # checks for finite values"
   ]
  },
  {
   "cell_type": "markdown",
   "id": "efa26a81",
   "metadata": {},
   "source": [
    "## Array oriented Programming with Arrays\n"
   ]
  },
  {
   "cell_type": "markdown",
   "id": "441e78b1",
   "metadata": {},
   "source": [
    "1. np.meshgrid() : X-> Here each row is a copy of x\n",
    "   Y-> Here eac column is a copy of y.\n",
    "   These 2D arrays represent a grid of points for evaluating functions over a rectangular domain\n"
   ]
  },
  {
   "cell_type": "code",
   "execution_count": 10,
   "id": "fa10af18",
   "metadata": {},
   "outputs": [
    {
     "name": "stdout",
     "output_type": "stream",
     "text": [
      "X:\n",
      " [[1 2 3]\n",
      " [1 2 3]]\n",
      "Y:\n",
      " [[4 4 4]\n",
      " [5 5 5]]\n"
     ]
    },
    {
     "data": {
      "image/png": "[encoded data removed]",
      "text/plain": [
       "<Figure size 600x500 with 2 Axes>"
      ]
     },
     "metadata": {},
     "output_type": "display_data"
    },
    {
     "name": "stdout",
     "output_type": "stream",
     "text": [
      "None\n"
     ]
    }
   ],
   "source": [
    "import numpy as np\n",
    "x=np.array([[1, 2, 3]])\n",
    "y=np.array([[4, 5]])\n",
    "X,Y=np.meshgrid(x, y) \n",
    "print(\"X:\\n\", X)\n",
    "print(\"Y:\\n\", Y)\n",
    "Z = X**2 + Y**2\n",
    "import matplotlib.pyplot as plt\n",
    "\n",
    "plt.figure(figsize=(6,5))\n",
    "contour = plt.contourf(X, Y, Z, levels=30, cmap='viridis')\n",
    "plt.colorbar(contour)\n",
    "plt.title('Contour plot of Z = X² + Y²')\n",
    "plt.xlabel('X')\n",
    "plt.ylabel('Y')\n",
    "plt.axis('equal')\n",
    "plt.grid(True)\n",
    "plt.show()\n",
    "\n",
    "print(plt.show())\n",
    "\n"
   ]
  },
  {
   "cell_type": "markdown",
   "id": "a120eb2a",
   "metadata": {},
   "source": [
    "Each pair (X[i][j] , Y[i][j]) corresponds to a point on the 2D grid\n"
   ]
  },
  {
   "cell_type": "markdown",
   "id": "058eb26a",
   "metadata": {},
   "source": [
    "## Expressing Conditional logic as Array\n"
   ]
  },
  {
   "cell_type": "code",
   "execution_count": 14,
   "id": "4d7ce268",
   "metadata": {},
   "outputs": [
    {
     "name": "stdout",
     "output_type": "stream",
     "text": [
      "Resulting array: [1.1 2.3 1.4 3.6 4.6]\n",
      "\n",
      "Original Array: [[ 1.75898236  1.83603941 -0.53578023 -0.34632096]\n",
      " [-0.21897061  1.06914912  0.62074599  0.63297228]\n",
      " [ 0.30035139  0.79911884 -0.31355478 -1.6566107 ]\n",
      " [ 1.16729899 -0.72879299  2.39244015  1.82783242]]\n",
      "\n",
      "Array with positive values replaced by themselves, others by -2:\n",
      "[[ 1.75898236  1.83603941 -2.         -2.        ]\n",
      " [-2.          1.06914912  0.62074599  0.63297228]\n",
      " [ 0.30035139  0.79911884 -2.         -2.        ]\n",
      " [ 1.16729899 -2.          2.39244015  1.82783242]]\n"
     ]
    }
   ],
   "source": [
    "xarr=np.array([1.1,2.2,1.4,3.5,4.6])\n",
    "yarr=np.array([1.2,2.3,1.5,3.6,4.7])\n",
    "cond= np.array([True, False, True, False, True])  # condition array\n",
    "result = np.where(cond, xarr, yarr)  # if cond is True, use xarr, else use yarr\n",
    "print(\"Resulting array:\", result)\n",
    "\n",
    "arr=np.random.randn(4,4)\n",
    "print(\"\\nOriginal Array:\", arr)\n",
    "print(\"\\nArray with positive values replaced by themselves, others by -2:\")\n",
    "print(np.where(arr > 0, arr, -2))  "
   ]
  }
 ],
 "metadata": {
  "kernelspec": {
   "display_name": "Python 3",
   "language": "python",
   "name": "python3"
  },
  "language_info": {
   "codemirror_mode": {
    "name": "ipython",
    "version": 3
   },
   "file_extension": ".py",
   "mimetype": "text/x-python",
   "name": "python",
   "nbconvert_exporter": "python",
   "pygments_lexer": "ipython3",
   "version": "3.13.5"
  }
 },
 "nbformat": 4,
 "nbformat_minor": 5
}
