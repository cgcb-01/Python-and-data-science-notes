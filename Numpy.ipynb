{
 "cells": [
  {
   "cell_type": "code",
   "execution_count": 7,
   "id": "87ff1997",
   "metadata": {},
   "outputs": [
    {
     "data": {
      "text/plain": [
       "2"
      ]
     },
     "execution_count": 7,
     "metadata": {},
     "output_type": "execute_result"
    }
   ],
   "source": [
    "# making a numpy nd array\n",
    "import numpy as np\n",
    "data=np.random.rand(2,3) # create a 2x3 array\n",
    "data*=10\n",
    "data+data\n",
    "data.shape # dimension of the array\n",
    "data.size # prints no of elements\n",
    "data.dtype # prints datatype\n",
    "data.ndim # prints no of dimensions"
   ]
  },
  {
   "cell_type": "code",
   "execution_count": 8,
   "id": "3b763367",
   "metadata": {},
   "outputs": [
    {
     "data": {
      "text/plain": [
       "array([[[0., 0.],\n",
       "        [0., 0.],\n",
       "        [0., 0.]],\n",
       "\n",
       "       [[0., 0.],\n",
       "        [0., 0.],\n",
       "        [0., 0.]]])"
      ]
     },
     "execution_count": 8,
     "metadata": {},
     "output_type": "execute_result"
    }
   ],
   "source": [
    "# np.empty() it creates an array without initialising its values. The values are whatever is in memory at that time.\n",
    "data2=np.empty((2,3,2))\n",
    "data2\n",
    "# to create arrays initialised wit zeroes\n",
    "data3=np.zeros((2,3,2))\n",
    "data3"
   ]
  },
  {
   "cell_type": "markdown",
   "id": "106c5c6e",
   "metadata": {},
   "source": [
    "**Type casting** : To convert or cast an array from one dtype to another using ndarray's: _astype()_ method.\n"
   ]
  },
  {
   "cell_type": "code",
   "execution_count": 9,
   "id": "c74c098f",
   "metadata": {},
   "outputs": [
    {
     "data": {
      "text/plain": [
       "dtype('float64')"
      ]
     },
     "execution_count": 9,
     "metadata": {},
     "output_type": "execute_result"
    }
   ],
   "source": [
    "arr=np.array([[1,2,3],[4,5,6]])\n",
    "arr.dtype\n",
    "float_arr=arr.astype('float64') # type casting\n",
    "float_arr.dtype "
   ]
  },
  {
   "cell_type": "code",
   "execution_count": null,
   "id": "26c11230",
   "metadata": {},
   "outputs": [
    {
     "data": {
      "text/plain": [
       "array([[1, 2, 3],\n",
       "       [4, 5, 6]])"
      ]
     },
     "execution_count": 15,
     "metadata": {},
     "output_type": "execute_result"
    }
   ],
   "source": [
    "arr=np.array([['a','B','A'],['4','0','e']])\n",
    "arr.dtype\n",
    "#arr.astype('int')# gives error cant cange char to int like this\n",
    "arr_int=np.vectorize(ord)(arr)\n",
    "arr_int.dtype\n",
    "arr_int\n",
    "# string to int possible only if all are numeric\n",
    "arr=np.array([['1','2','3'],['4','5','6']])\n",
    "arr_int=arr.astype('int')\n",
    "arr_int"
   ]
  },
  {
   "cell_type": "markdown",
   "id": "c8f59680",
   "metadata": {},
   "source": []
  }
 ],
 "metadata": {
  "kernelspec": {
   "display_name": "Python 3",
   "language": "python",
   "name": "python3"
  },
  "language_info": {
   "codemirror_mode": {
    "name": "ipython",
    "version": 3
   },
   "file_extension": ".py",
   "mimetype": "text/x-python",
   "name": "python",
   "nbconvert_exporter": "python",
   "pygments_lexer": "ipython3",
   "version": "3.13.5"
  }
 },
 "nbformat": 4,
 "nbformat_minor": 5
}
