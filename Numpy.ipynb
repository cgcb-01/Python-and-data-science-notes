{
 "cells": [
  {
   "cell_type": "markdown",
   "id": "9c77848d",
   "metadata": {},
   "source": [
    "# NumPy and its basics\n"
   ]
  },
  {
   "cell_type": "markdown",
   "id": "455a6112",
   "metadata": {},
   "source": [
    "creating a nDarray\n"
   ]
  },
  {
   "cell_type": "code",
   "execution_count": 7,
   "id": "87ff1997",
   "metadata": {},
   "outputs": [
    {
     "data": {
      "text/plain": [
       "2"
      ]
     },
     "execution_count": 7,
     "metadata": {},
     "output_type": "execute_result"
    }
   ],
   "source": [
    "# making a numpy nd array\n",
    "import numpy as np\n",
    "data=np.random.rand(2,3) # create a 2x3 array\n",
    "data*=10\n",
    "data+data\n",
    "data.shape # dimension of the array\n",
    "data.size # prints no of elements\n",
    "data.dtype # prints datatype\n",
    "data.ndim # prints no of dimensions"
   ]
  },
  {
   "cell_type": "markdown",
   "id": "c0c99c22",
   "metadata": {},
   "source": [
    "creating a zero initialised or empty ndarray\n"
   ]
  },
  {
   "cell_type": "code",
   "execution_count": 8,
   "id": "3b763367",
   "metadata": {},
   "outputs": [
    {
     "data": {
      "text/plain": [
       "array([[[0., 0.],\n",
       "        [0., 0.],\n",
       "        [0., 0.]],\n",
       "\n",
       "       [[0., 0.],\n",
       "        [0., 0.],\n",
       "        [0., 0.]]])"
      ]
     },
     "execution_count": 8,
     "metadata": {},
     "output_type": "execute_result"
    }
   ],
   "source": [
    "# np.empty() it creates an array without initialising its values. The values are whatever is in memory at that time.\n",
    "data2=np.empty((2,3,2))\n",
    "data2\n",
    "# to create arrays initialised wit zeroes\n",
    "data3=np.zeros((2,3,2))\n",
    "data3"
   ]
  },
  {
   "cell_type": "markdown",
   "id": "106c5c6e",
   "metadata": {},
   "source": [
    "**Type casting** : To convert or cast an array from one dtype to another using ndarray's: _astype()_ method.\n"
   ]
  },
  {
   "cell_type": "code",
   "execution_count": 9,
   "id": "c74c098f",
   "metadata": {},
   "outputs": [
    {
     "data": {
      "text/plain": [
       "dtype('float64')"
      ]
     },
     "execution_count": 9,
     "metadata": {},
     "output_type": "execute_result"
    }
   ],
   "source": [
    "arr=np.array([[1,2,3],[4,5,6]])\n",
    "arr.dtype\n",
    "float_arr=arr.astype('float64') # type casting\n",
    "float_arr.dtype "
   ]
  },
  {
   "cell_type": "code",
   "execution_count": null,
   "id": "26c11230",
   "metadata": {},
   "outputs": [
    {
     "data": {
      "text/plain": [
       "array([[1, 2, 3],\n",
       "       [4, 5, 6]])"
      ]
     },
     "execution_count": 15,
     "metadata": {},
     "output_type": "execute_result"
    }
   ],
   "source": [
    "arr=np.array([['a','B','A'],['4','0','e']])\n",
    "arr.dtype\n",
    "#arr.astype('int')# gives error cant cange char to int like this\n",
    "arr_int=np.vectorize(ord)(arr)\n",
    "arr_int.dtype\n",
    "arr_int\n",
    "# string to int possible only if all are numeric\n",
    "arr=np.array([['1','2','3'],['4','5','6']])\n",
    "arr_int=arr.astype('int')\n",
    "arr_int"
   ]
  },
  {
   "cell_type": "markdown",
   "id": "c8f59680",
   "metadata": {},
   "source": [
    "we sould be cautious when using numpy.string\\_ type as string data in NumPy is fixed size and may truncate input witout warning.\n"
   ]
  },
  {
   "cell_type": "markdown",
   "id": "9adc043d",
   "metadata": {},
   "source": [
    "## Arithmetic with NumPy Arrays\n"
   ]
  },
  {
   "cell_type": "markdown",
   "id": "9d923843",
   "metadata": {},
   "source": [
    "This is mostly called as _vectorisation_ by NumPy users. Any arithmetic operation between equal-size arrays applies te operation element wise.\n"
   ]
  },
  {
   "cell_type": "code",
   "execution_count": 17,
   "id": "a15bf65b",
   "metadata": {},
   "outputs": [
    {
     "data": {
      "text/plain": [
       "array([[ 1, -3, -6],\n",
       "       [ 0,  0,  0]])"
      ]
     },
     "execution_count": 17,
     "metadata": {},
     "output_type": "execute_result"
    }
   ],
   "source": [
    "arr=np.array([[1,2,3],[4,5,6]])\n",
    "mult_arr=arr*arr # element wise multiplication\n",
    "mult_arr\n",
    "add_arr=arr+arr # element wise addition\n",
    "add_arr\n",
    "arr2=np.array([[0,5,9],[4,5,6]])\n",
    "sub_arr=arr-arr2 # element wise subtraction\n",
    "sub_arr"
   ]
  },
  {
   "cell_type": "markdown",
   "id": "6b7b0c26",
   "metadata": {},
   "source": [
    "Arithmetic operations with scalar propagate te scalar arguments to eac elements.\n"
   ]
  },
  {
   "cell_type": "code",
   "execution_count": null,
   "id": "58850e6b",
   "metadata": {},
   "outputs": [
    {
     "data": {
      "text/plain": [
       "array([[False,  True,  True],\n",
       "       [False, False, False]])"
      ]
     },
     "execution_count": 20,
     "metadata": {},
     "output_type": "execute_result"
    }
   ],
   "source": [
    "2/arr # element wise division\n",
    "arr2/arr # element wise division with another array\n",
    "arr2**0.5 # square root\n",
    "arr2>arr # element wise comparison"
   ]
  },
  {
   "cell_type": "markdown",
   "id": "98b5b79c",
   "metadata": {},
   "source": [
    "## Basic Indexing and Slicing\n"
   ]
  },
  {
   "cell_type": "code",
   "execution_count": 32,
   "id": "58ff9bec",
   "metadata": {},
   "outputs": [
    {
     "name": "stdout",
     "output_type": "stream",
     "text": [
      "arr2: [94 80  0 11 94]\n",
      "arr: [ 3  4  3 66 72 94 80  0  1  2]\n"
     ]
    }
   ],
   "source": [
    "arr = np.random.randint(0, 100, 10)\n",
    "arr[5:8]  # slicing includes start index and excludes end index\n",
    "arr2=arr[5:] # slicing from index 5 to end\n",
    "arr2[2]=0\n",
    "print(\"arr2:\", arr2)\n",
    "arr[8:]=np.array([1,2]) # slicing from index 8 to end\n",
    "print(\"arr:\", arr)"
   ]
  },
  {
   "cell_type": "code",
   "execution_count": null,
   "id": "cf0b7033",
   "metadata": {},
   "outputs": [],
   "source": []
  }
 ],
 "metadata": {
  "kernelspec": {
   "display_name": "Python 3",
   "language": "python",
   "name": "python3"
  },
  "language_info": {
   "codemirror_mode": {
    "name": "ipython",
    "version": 3
   },
   "file_extension": ".py",
   "mimetype": "text/x-python",
   "name": "python",
   "nbconvert_exporter": "python",
   "pygments_lexer": "ipython3",
   "version": "3.13.5"
  }
 },
 "nbformat": 4,
 "nbformat_minor": 5
}
